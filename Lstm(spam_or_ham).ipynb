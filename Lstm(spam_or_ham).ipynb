{
  "nbformat": 4,
  "nbformat_minor": 0,
  "metadata": {
    "colab": {
      "provenance": [],
      "authorship_tag": "ABX9TyPiSwSlV+gIAYk4eX3fIzv1",
      "include_colab_link": true
    },
    "kernelspec": {
      "name": "python3",
      "display_name": "Python 3"
    },
    "language_info": {
      "name": "python"
    }
  },
  "cells": [
    {
      "cell_type": "markdown",
      "metadata": {
        "id": "view-in-github",
        "colab_type": "text"
      },
      "source": [
        "<a href=\"https://colab.research.google.com/github/MAHMUD722025/Lstm-text-sentiment-analysis-./blob/main/Lstm(spam_or_ham).ipynb\" target=\"_parent\"><img src=\"https://colab.research.google.com/assets/colab-badge.svg\" alt=\"Open In Colab\"/></a>"
      ]
    },
    {
      "cell_type": "code",
      "execution_count": 14,
      "metadata": {
        "colab": {
          "base_uri": "https://localhost:8080/"
        },
        "id": "Mo6k_wzlnOL0",
        "outputId": "b100a13c-024b-4ff3-f8fb-31c923ae3099"
      },
      "outputs": [
        {
          "output_type": "stream",
          "name": "stdout",
          "text": [
            "Drive already mounted at /content/drive; to attempt to forcibly remount, call drive.mount(\"/content/drive\", force_remount=True).\n",
            "Epoch 1/10\n"
          ]
        },
        {
          "output_type": "stream",
          "name": "stderr",
          "text": [
            "/usr/local/lib/python3.12/dist-packages/keras/src/layers/core/embedding.py:97: UserWarning: Argument `input_length` is deprecated. Just remove it.\n",
            "  warnings.warn(\n"
          ]
        },
        {
          "output_type": "stream",
          "name": "stdout",
          "text": [
            "\u001b[1m175/175\u001b[0m \u001b[32m━━━━━━━━━━━━━━━━━━━━\u001b[0m\u001b[37m\u001b[0m \u001b[1m38s\u001b[0m 174ms/step - accuracy: 0.9041 - loss: 0.2698\n",
            "Epoch 2/10\n",
            "\u001b[1m175/175\u001b[0m \u001b[32m━━━━━━━━━━━━━━━━━━━━\u001b[0m\u001b[37m\u001b[0m \u001b[1m41s\u001b[0m 174ms/step - accuracy: 0.9931 - loss: 0.0308\n",
            "Epoch 3/10\n",
            "\u001b[1m175/175\u001b[0m \u001b[32m━━━━━━━━━━━━━━━━━━━━\u001b[0m\u001b[37m\u001b[0m \u001b[1m30s\u001b[0m 173ms/step - accuracy: 0.9987 - loss: 0.0072\n",
            "Epoch 4/10\n",
            "\u001b[1m175/175\u001b[0m \u001b[32m━━━━━━━━━━━━━━━━━━━━\u001b[0m\u001b[37m\u001b[0m \u001b[1m31s\u001b[0m 179ms/step - accuracy: 0.9990 - loss: 0.0065\n",
            "Epoch 5/10\n",
            "\u001b[1m175/175\u001b[0m \u001b[32m━━━━━━━━━━━━━━━━━━━━\u001b[0m\u001b[37m\u001b[0m \u001b[1m31s\u001b[0m 176ms/step - accuracy: 0.9978 - loss: 0.0109\n",
            "Epoch 6/10\n",
            "\u001b[1m175/175\u001b[0m \u001b[32m━━━━━━━━━━━━━━━━━━━━\u001b[0m\u001b[37m\u001b[0m \u001b[1m30s\u001b[0m 173ms/step - accuracy: 0.9999 - loss: 0.0015\n",
            "Epoch 7/10\n",
            "\u001b[1m175/175\u001b[0m \u001b[32m━━━━━━━━━━━━━━━━━━━━\u001b[0m\u001b[37m\u001b[0m \u001b[1m41s\u001b[0m 174ms/step - accuracy: 0.9999 - loss: 0.0011\n",
            "Epoch 8/10\n",
            "\u001b[1m175/175\u001b[0m \u001b[32m━━━━━━━━━━━━━━━━━━━━\u001b[0m\u001b[37m\u001b[0m \u001b[1m31s\u001b[0m 175ms/step - accuracy: 1.0000 - loss: 4.2566e-04\n",
            "Epoch 9/10\n",
            "\u001b[1m175/175\u001b[0m \u001b[32m━━━━━━━━━━━━━━━━━━━━\u001b[0m\u001b[37m\u001b[0m \u001b[1m31s\u001b[0m 178ms/step - accuracy: 1.0000 - loss: 2.7370e-04\n",
            "Epoch 10/10\n",
            "\u001b[1m175/175\u001b[0m \u001b[32m━━━━━━━━━━━━━━━━━━━━\u001b[0m\u001b[37m\u001b[0m \u001b[1m32s\u001b[0m 179ms/step - accuracy: 1.0000 - loss: 2.2648e-04\n"
          ]
        },
        {
          "output_type": "execute_result",
          "data": {
            "text/plain": [
              "<keras.src.callbacks.history.History at 0x7c2e41728f50>"
            ]
          },
          "metadata": {},
          "execution_count": 14
        }
      ],
      "source": [
        "\n",
        "from tensorflow.keras.models import Sequential\n",
        "from tensorflow.keras.layers import Embedding, LSTM, Dense, Dropout, Bidirectional\n",
        "from tensorflow.keras.preprocessing.text import Tokenizer\n",
        "from tensorflow.keras.preprocessing.sequence import pad_sequences\n",
        "import pandas as pd\n",
        "\n",
        "from google.colab import drive\n",
        "drive.mount('/content/drive')\n",
        "\n",
        "#Load data\n",
        "df = pd.read_csv('/content/drive/MyDrive/spam.csv',encoding='latin1')\n",
        "texts = df['v2'].astype(str).str.lower().values\n",
        "labels = df['v1'].map({'ham':0,'spam':1}).values\n",
        "\n",
        "#Tokenize and pad\n",
        "tokenizer = Tokenizer(num_words=10000, oov_token=\"<OOV>\")\n",
        "tokenizer.fit_on_texts(texts)\n",
        "sequences = tokenizer.texts_to_sequences(texts)\n",
        "padded = pad_sequences(sequences, maxlen=100)\n",
        "\n",
        "#Model\n",
        "model = Sequential()\n",
        "model.add(Embedding(input_dim=10000, output_dim=64, input_length=100))\n",
        "model.add(Bidirectional(LSTM(64, return_sequences=True)))\n",
        "model.add(Dropout(0.3))\n",
        "model.add(Bidirectional(LSTM(32)))\n",
        "model.add(Dropout(0.3))\n",
        "model.add(Dense(1, activation='sigmoid'))\n",
        "\n",
        "#Compile and train\n",
        "model.compile(optimizer='adam', loss='binary_crossentropy', metrics=['accuracy'])\n",
        "model.fit(padded, labels, epochs=10, batch_size=32)"
      ]
    },
    {
      "cell_type": "code",
      "source": [
        "\n",
        "def predict_message(message):\n",
        "    message = message.lower()\n",
        "    # Preprocess input message\n",
        "    seq = tokenizer.texts_to_sequences([message])\n",
        "    padded_seq = pad_sequences(seq, maxlen=100)\n",
        "\n",
        "    # Model predict probability\n",
        "    pred = model.predict(padded_seq)[0][0]\n",
        "\n",
        "    # Determine label\n",
        "    label = 'spam' if pred > 0.5 else 'ham'\n",
        "\n",
        "    return [float(pred), label]\n",
        "\n",
        "result = predict_message(\"Free entru in wkly camp! Call now\")\n",
        "print(result)  # e.g. [0.87, 'spam']"
      ],
      "metadata": {
        "colab": {
          "base_uri": "https://localhost:8080/"
        },
        "id": "QPkF-j7VruJy",
        "outputId": "f561df6a-549b-4f57-9efa-d68aa233702c"
      },
      "execution_count": 25,
      "outputs": [
        {
          "output_type": "stream",
          "name": "stdout",
          "text": [
            "\u001b[1m1/1\u001b[0m \u001b[32m━━━━━━━━━━━━━━━━━━━━\u001b[0m\u001b[37m\u001b[0m \u001b[1m0s\u001b[0m 78ms/step\n",
            "[0.9770112633705139, 'spam']\n"
          ]
        }
      ]
    }
  ]
}